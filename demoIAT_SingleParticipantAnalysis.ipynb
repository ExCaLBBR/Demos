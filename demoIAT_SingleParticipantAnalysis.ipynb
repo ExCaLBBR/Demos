{
  "nbformat": 4,
  "nbformat_minor": 0,
  "metadata": {
    "colab": {
      "provenance": [],
      "include_colab_link": true
    },
    "kernelspec": {
      "name": "python3",
      "display_name": "Python 3"
    },
    "language_info": {
      "name": "python"
    }
  },
  "cells": [
    {
      "cell_type": "markdown",
      "metadata": {
        "id": "view-in-github",
        "colab_type": "text"
      },
      "source": [
        "<a href=\"https://colab.research.google.com/github/ExCaLBBR/Demos/blob/main/demoIAT_SingleParticipantAnalysis.ipynb\" target=\"_parent\"><img src=\"https://colab.research.google.com/assets/colab-badge.svg\" alt=\"Open In Colab\"/></a>"
      ]
    },
    {
      "cell_type": "markdown",
      "source": [
        "Gorilla Info: <br>\n",
        "Project: RaciallyBiasedDecisions_APF <br>\n",
        "Account: Roberto Vargas (robertov@andrew.cmu.edu)"
      ],
      "metadata": {
        "id": "C9mud3ByqVgH"
      }
    },
    {
      "cell_type": "code",
      "source": [
        "#@title Import libraries\n",
        "#Load relevant libraries and install dependencies\n",
        "import pandas as pd\n",
        "import numpy as np\n",
        "import re\n",
        "import os # for joining paths and filenames sensibly\n",
        "import glob # for finding csv data files\n",
        "import platform # paths use different dividers on linux vs windows, so we need to test for this\n",
        "import string"
      ],
      "metadata": {
        "id": "08gBma2_ivoE",
        "cellView": "form"
      },
      "execution_count": 2,
      "outputs": []
    },
    {
      "cell_type": "code",
      "source": [
        "#@title Define Utility functions\n",
        "#Compute adjusted mean\n",
        "def adjustedmean(RTs,corrs,penalty):\n",
        "    n=len(corrs) #trials\n",
        "    n_errors=int(n-sum(corrs)) #errors\n",
        "    # print(\"Number of correctness: \", int(sum(corrs)))\n",
        "    # print(\"Number of errors: \", n_errors)\n",
        "    cor_RTs=np.array(corrs)*RTs #sum of correct RTs\n",
        "    cor_mean=sum(cor_RTs)/sum(corrs)\n",
        "\n",
        "    #mean with errors replaced with penalty value\n",
        "    return cor_mean+(n_errors*penalty)/n\n",
        "\n",
        "\n",
        "#Remove timed out trials\n",
        "def exclude_slows(RTs,corrs,slowRT_limit):\n",
        "    new_rt=[] #holding variables\n",
        "    new_cr=[]\n",
        "    for i in range(len(RTs)): #iterate over every item\n",
        "        if RTs[i] < slowRT_limit: #if it isn't too fast, include RT and corr values\n",
        "            new_rt.append(RTs[i])\n",
        "            new_cr.append(corrs[i])\n",
        "\n",
        "    return (new_rt, new_cr)\n",
        "\n",
        "#Compute IAT bias rating\n",
        "def iat_analyze(congr_rts_raw, congr_corr_raw, incon_rts_raw, incon_corr_raw, df_name):\n",
        "    #1 discard subject if too many fast responses\n",
        "    if sum(np.array(np.concatenate((np.array(congr_rts_raw), np.array(incon_rts_raw))))<fastRT_limit)>len(np.concatenate((np.array(congr_rts_raw), np.array(incon_rts_raw))))*fast_prop_limit:\n",
        "        print (\"excluding subject for BM STR because too many fast responses\")\n",
        "    else:\n",
        "        #2 Eliminate scores over 10,000 ms\n",
        "\n",
        "        congr_rts,congr_corr=exclude_slows(congr_rts_raw,congr_corr_raw,slowRT_limit)\n",
        "        incon_rts,incon_corr=exclude_slows(incon_rts_raw,incon_corr_raw,slowRT_limit)\n",
        "\n",
        "        #3 Calculate pooled std\n",
        "        #pooled_std=pooled.std(0) #n-1 std sample std\n",
        "        #(Use N not N-1 because this is the whole sample).\n",
        "        #numpy.std is population std\n",
        "        pooled=congr_rts + incon_rts #all RTs from both blocks, correct and incorrect\n",
        "        pooled_std=np.std(pooled)\n",
        "\n",
        "        #4 Calculated adjusted means, including the penalty\n",
        "        congr_adjmean=adjustedmean(congr_rts,congr_corr,penalty)\n",
        "        incon_adjmean=adjustedmean(incon_rts,incon_corr,penalty)\n",
        "\n",
        "        #5 Calculate the IAT, so that pro-stereotype RTs are a -ve score\n",
        "        IAT=(congr_adjmean-incon_adjmean)/pooled_std\n",
        "\n",
        "        simpleIAT=sum(congr_rts)/len(congr_rts)-sum(incon_rts)/len(incon_rts)\n",
        "\n",
        "        return(IAT)\n",
        "        print(\"IAT for \" + df_name + \" is : {:+.3f}\".format(IAT))\n",
        "        print(\"Mean difference (uncorrected) \" + df_name + \" is {:+.3f}\".format(simpleIAT)+\" seconds\")\n",
        "\n",
        "# function to convert values in the pivot values from list to float\n",
        "def convert_to_float(x):\n",
        "    if isinstance(x, list):\n",
        "        return float(x[0]) # assuming there is only one value in the list\n",
        "    else:\n",
        "        return x"
      ],
      "metadata": {
        "id": "3dArzVdYA-mz",
        "cellView": "form"
      },
      "execution_count": 3,
      "outputs": []
    },
    {
      "cell_type": "code",
      "source": [
        "#@title Load Data:\n",
        "\n",
        "#Implicit Association Test (IAT)\n",
        "url = 'https://github.com/ExCaLBBR/ExCaLBBR_Projects/raw/main/RaciallyBiasedDecisions/RaciallyBiasedDecisions-Intersectionality_SURG/data/raw/raw_task_IAT_BM.csv'\n",
        "df_IAT = pd.read_csv(url)\n"
      ],
      "metadata": {
        "id": "NA7mXjvZZldd"
      },
      "execution_count": null,
      "outputs": []
    },
    {
      "cell_type": "code",
      "source": [
        "#@title Specify thresholds\n",
        "penalty=0.600 #penalty - in seconds - for incorrect responses\n",
        "slowRT_limit=10000 #threshold at which slow RTs are discarded\n",
        "fastRT_limit=300 #threshold which defines responses which are \"too fast\"\n",
        "fast_prop_limit=0.1 # threshold proportion of \"too fast\" responses which defines exclusion of ppt"
      ],
      "metadata": {
        "cellView": "form",
        "id": "PXt10fAu3_qY"
      },
      "execution_count": null,
      "outputs": []
    },
    {
      "cell_type": "code",
      "source": [
        "#@title Isolate relevant columns\n",
        "#Implicit Association Test (IAT)\n",
        "\n",
        "include = ['Participant Private ID', 'Absolute Reaction Time', 'Correct', 'Component Name', 'allocator-k3xu', 'Spreadsheet: ImageLeft', 'Spreadsheet: ImageRight', 'Spreadsheet: TextLeft', 'Spreadsheet: TextRight', 'Spreadsheet: metadata', 'Response']\n",
        "df_IAT.drop(columns=df_IAT.columns.difference(include), inplace=True)\n",
        "mask = df_IAT['Component Name'].str.contains('Keyboard Response', na=True)\n",
        "df_IAT = df_IAT[mask]\n",
        "mask = df_IAT['Response'].str.contains('BEGIN', na=True) | df_IAT['Response'].str.contains('END', na=True)\n",
        "df_IAT = df_IAT[~mask]\n",
        "df_IAT.drop(columns=['Component Name', 'Response'], inplace=True)\n",
        "df_IAT = df_IAT.reset_index(drop=True)"
      ],
      "metadata": {
        "id": "daEQfOWgSmqY",
        "cellView": "form"
      },
      "execution_count": null,
      "outputs": []
    },
    {
      "cell_type": "code",
      "source": [
        "#@title Data Extraction\n",
        "df_IAT.rename(columns={\"Spreadsheet: metadata\": \"Congruence\", \"allocator-k3xu\": \"Group Type\"}, inplace = True)\n",
        "df_IAT = df_IAT.drop([\"Spreadsheet: ImageLeft\", \"Spreadsheet: ImageRight\"], axis = 1)\n",
        "\n",
        "#Isolate columns based on stereotype category which are not part of the practice blocks\n",
        "df_IAT_STR = df_IAT[((df_IAT[\"Spreadsheet: TextLeft\"] == \"Strong\") | (df_IAT[\"Spreadsheet: TextRight\"] == \"Strong\")) & (~df_IAT[\"Congruence\"].str.startswith(\"practice\"))]\n",
        "df_IAT_INT = df_IAT[((df_IAT[\"Spreadsheet: TextLeft\"] == \"Intelligence\") | (df_IAT[\"Spreadsheet: TextRight\"] == \"Intelligence\")) & (~df_IAT[\"Congruence\"].str.startswith(\"practice\"))]\n",
        "df_IAT_DIR = df_IAT[((df_IAT[\"Spreadsheet: TextLeft\"] == \"Dirty\") | (df_IAT[\"Spreadsheet: TextRight\"] == \"Clean\")) & (~df_IAT[\"Congruence\"].str.startswith(\"practice\"))]\n",
        "\n",
        "# STR lists RV: polarity of the condition was mislabed in the original data and is corrected here\n",
        "congr_STR_ID = df_IAT_STR[df_IAT_STR[\"Congruence\"] == \"congruent\"][\"Participant Private ID\"].dropna().tolist()\n",
        "congr_corr_STR = df_IAT_STR[df_IAT_STR[\"Congruence\"] == \"congruent\"][\"Correct\"].dropna().tolist()\n",
        "congr_rts_STR = df_IAT_STR[df_IAT_STR[\"Congruence\"] == \"congruent\"][\"Absolute Reaction Time\"].dropna().tolist()\n",
        "incon_STR_ID = df_IAT_STR[df_IAT_STR[\"Congruence\"] == \"incongruent\"][\"Participant Private ID\"].dropna().tolist()\n",
        "incon_corr_STR = df_IAT_STR[df_IAT_STR[\"Congruence\"] == \"incongruent\"][\"Correct\"].dropna().tolist()\n",
        "incon_rts_STR = df_IAT_STR[df_IAT_STR[\"Congruence\"] == \"incongruent\"][\"Absolute Reaction Time\"].dropna().tolist()\n",
        "# INT lists\n",
        "congr_INT_ID = df_IAT_INT[df_IAT_INT[\"Congruence\"] == \"congruent\"][\"Participant Private ID\"].dropna().tolist()\n",
        "congr_corr_INT = df_IAT_INT[df_IAT_INT[\"Congruence\"] == \"congruent\"][\"Correct\"].dropna().tolist()\n",
        "congr_rts_INT = df_IAT_INT[df_IAT_INT[\"Congruence\"] == \"congruent\"][\"Absolute Reaction Time\"].dropna().tolist()\n",
        "incon_INT_ID = df_IAT_INT[df_IAT_INT[\"Congruence\"] == \"incongruent\"][\"Participant Private ID\"].dropna().tolist()\n",
        "incon_corr_INT = df_IAT_INT[df_IAT_INT[\"Congruence\"] == \"incongruent\"][\"Correct\"].dropna().tolist()\n",
        "incon_rts_INT = df_IAT_INT[df_IAT_INT[\"Congruence\"] == \"incongruent\"][\"Absolute Reaction Time\"].dropna().tolist()\n",
        "# DIR lists\n",
        "congr_DIR_ID = df_IAT_DIR[df_IAT_DIR[\"Congruence\"] == \"congruent\"][\"Participant Private ID\"].dropna().tolist()\n",
        "congr_corr_DIR = df_IAT_DIR[df_IAT_DIR[\"Congruence\"] == \"congruent\"][\"Correct\"].dropna().tolist()\n",
        "congr_rts_DIR = df_IAT_DIR[df_IAT_DIR[\"Congruence\"] == \"congruent\"][\"Absolute Reaction Time\"].dropna().tolist()\n",
        "incon_DIR_ID = df_IAT_DIR[df_IAT_DIR[\"Congruence\"] == \"incongruent\"][\"Participant Private ID\"].dropna().tolist()\n",
        "incon_corr_DIR = df_IAT_DIR[df_IAT_DIR[\"Congruence\"] == \"incongruent\"][\"Correct\"].dropna().tolist()\n",
        "incon_rts_DIR = df_IAT_DIR[df_IAT_DIR[\"Congruence\"] == \"incongruent\"][\"Absolute Reaction Time\"].dropna().tolist()\n",
        "# check correctness list has the same length as the rt list\n",
        "# print(len(congr_corr_BM_STR))\n",
        "# print(len(congr_rts_BM_STR))\n"
      ],
      "metadata": {
        "id": "lUQ__yRl4uCX"
      },
      "execution_count": null,
      "outputs": []
    },
    {
      "cell_type": "code",
      "source": [
        "#@title Filter participants who are too fast\n",
        "#Find and remove participants who are too fast\n",
        "# Strength\n",
        "ID = np.unique(congr_STR_ID)\n",
        "remIndx = []\n",
        "for p in range(len(ID)):\n",
        "    indx_cong = np.where(np.array(congr_STR_ID) == ID[p])\n",
        "    indx_incon = np.where(np.array(incon_STR_ID) == ID[p])\n",
        "    if sum(np.array(np.concatenate((np.array(congr_rts_STR)[indx_cong], np.array(incon_rts_STR)[indx_incon])))<fastRT_limit)>len(np.concatenate((np.array(congr_rts_STR)[indx_cong], np.array(incon_rts_STR)[indx_incon])))*fast_prop_limit:\n",
        "      print (\"Excluding subject\", ID[p], \"for WM STR because too many fast responses\")\n",
        "      remIndx.append(p)\n",
        "ID_filt = np.delete(ID, remIndx)\n",
        "# Intel\n",
        "remIndx = []\n",
        "for p in range(len(ID_filt)):\n",
        "    indx_cong = np.where(np.array(congr_INT_ID) == ID_filt[p])\n",
        "    indx_incon = np.where(np.array(incon_INT_ID) == ID_filt[p])\n",
        "    if sum(np.array(np.concatenate((np.array(congr_rts_INT)[indx_cong], np.array(incon_rts_INT)[indx_incon])))<fastRT_limit)>len(np.concatenate((np.array(congr_rts_INT)[indx_cong], np.array(incon_rts_INT)[indx_incon])))*fast_prop_limit:\n",
        "      print (\"Excluding subject\", ID_filt[p], \"for WM INT because too many fast responses\")\n",
        "      remIndx.append(p)\n",
        "ID_filt = np.delete(ID_filt, remIndx)\n",
        "# Dirt\n",
        "remIndx = []\n",
        "for p in range(len(ID_filt)):\n",
        "    indx_cong = np.where(np.array(congr_DIR_ID) == ID_filt[p])\n",
        "    indx_incon = np.where(np.array(incon_DIR_ID) == ID_filt[p])\n",
        "    if sum(np.array(np.concatenate((np.array(congr_rts_DIR)[indx_cong], np.array(incon_rts_DIR)[indx_incon])))<fastRT_limit)>len(np.concatenate((np.array(congr_rts_DIR)[indx_cong], np.array(incon_rts_DIR)[indx_incon])))*fast_prop_limit:\n",
        "      print (\"Excluding subject\", ID_filt[p], \"for WM INT because too many fast responses\")\n",
        "      remIndx.append(p)\n",
        "ID_filt = np.delete(ID_filt, remIndx)"
      ],
      "metadata": {
        "id": "_q7w5Fdt5x1_"
      },
      "execution_count": null,
      "outputs": []
    },
    {
      "cell_type": "code",
      "source": [
        "#@title Compute IAT bias\n",
        "# Strength\n",
        "IAT_STR = []\n",
        "for p in range(len(ID_filt)):\n",
        "  indx_cong = np.where(np.array(congr_STR_ID) == ID_filt[p])[0]\n",
        "  cong_corr_WM_STR_pi = np.array(congr_corr_STR)[indx_cong]\n",
        "  cong_rts_WM_STR_pi = np.array(congr_rts_STR)[indx_cong]\n",
        "  indx_incon = np.where(np.array(incon_STR_ID) == ID_filt[p])[0]\n",
        "  incon_corr_WM_STR_pi = np.array(incon_corr_STR)[indx_incon]\n",
        "  incon_rts_WM_STR_pi = np.array(incon_rts_STR)[indx_incon]\n",
        "  #print(WM_ID_filt[p])\n",
        "  iatBias = iat_analyze(cong_rts_WM_STR_pi, cong_corr_WM_STR_pi, incon_rts_WM_STR_pi, incon_corr_WM_STR_pi, \"WM STR\")\n",
        "  IAT_STR.append(iatBias)\n",
        "\n",
        "# Intel\n",
        "IAT_INT = []\n",
        "for p in range(len(ID_filt)):\n",
        "  indx_cong = np.where(np.array(congr_INT_ID) == ID_filt[p])[0]\n",
        "  cong_corr_WM_INT_pi = np.array(congr_corr_INT)[indx_cong]\n",
        "  cong_rts_WM_INT_pi = np.array(congr_rts_INT)[indx_cong]\n",
        "  indx_incon = np.where(np.array(incon_INT_ID) == ID_filt[p])[0]\n",
        "  incon_corr_WM_INT_pi = np.array(incon_corr_INT)[indx_incon]\n",
        "  incon_rts_WM_INT_pi = np.array(incon_rts_INT)[indx_incon]\n",
        "  #print(WM_ID_filt[p])\n",
        "  iatBias = iat_analyze(cong_rts_WM_INT_pi, cong_corr_WM_INT_pi, incon_rts_WM_INT_pi, incon_corr_WM_INT_pi, \"WM INT\")\n",
        "  IAT_INT.append(iatBias)\n",
        "\n",
        "# Dirt\n",
        "IAT_DIR = []\n",
        "for p in range(len(ID_filt)):\n",
        "  indx_cong = np.where(np.array(congr_DIR_ID) == ID_filt[p])[0]\n",
        "  cong_corr_WM_DIR_pi = np.array(congr_corr_DIR)[indx_cong]\n",
        "  cong_rts_WM_DIR_pi = np.array(congr_rts_DIR)[indx_cong]\n",
        "  indx_incon = np.where(np.array(incon_DIR_ID) == ID_filt[p])[0]\n",
        "  incon_corr_WM_DIR_pi = np.array(incon_corr_DIR)[indx_incon]\n",
        "  incon_rts_WM_DIR_pi = np.array(incon_rts_DIR)[indx_incon]\n",
        "  #print(WM_ID_filt[p])\n",
        "  iatBias = iat_analyze(cong_rts_WM_DIR_pi, cong_corr_WM_DIR_pi, incon_rts_WM_DIR_pi, incon_corr_WM_DIR_pi, \"WM DIR\")\n",
        "  IAT_DIR.append(iatBias)"
      ],
      "metadata": {
        "id": "v9a7weHA51xf"
      },
      "execution_count": null,
      "outputs": []
    },
    {
      "cell_type": "code",
      "source": [
        "#@title Participant-wise analysis of IAT bias by Stereotype category\n",
        "\n",
        "#Group by stereotype means\n",
        "IAT_STR_Avg = np.mean(IAT_STR)*-1\n",
        "IAT_INT_Avg = np.mean(IAT_INT)*-1\n",
        "IAT_DIR_Avg = np.mean(IAT_DIR)*-1\n",
        "\n",
        "#Group by stereotype standard deviation\n",
        "IAT_STR_SD = np.std(IAT_STR)\n",
        "IAT_INT_SD = np.std(IAT_INT)\n",
        "IAT_DIR_SD = np.std(IAT_DIR)\n",
        "\n",
        "#Print output\n",
        "print(\"Strength Stereotype IAT bias =\", IAT_STR_Avg, \"(SD = \", IAT_STR_SD, \")\")\n",
        "print(\"Intelligence Stereotype IAT bias =\", IAT_INT_Avg, \"(SD = \", IAT_INT_SD, \")\")\n",
        "print(\"Dirtiness Stereotype IAT bias =\", IAT_DIR_Avg, \"(SD = \", IAT_DIR_SD, \")\")"
      ],
      "metadata": {
        "id": "fxUM61Zq54pX"
      },
      "execution_count": null,
      "outputs": []
    }
  ]
}